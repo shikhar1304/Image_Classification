{
 "cells": [
  {
   "cell_type": "code",
   "execution_count": 1,
   "id": "bf8ff322",
   "metadata": {
    "_cell_guid": "b1076dfc-b9ad-4769-8c92-a6c4dae69d19",
    "_kg_hide-input": false,
    "_kg_hide-output": true,
    "_uuid": "8f2839f25d086af736a60e9eeb907d3b93b6e0e5",
    "papermill": {
     "duration": 0.863657,
     "end_time": "2024-01-20T13:03:51.760067",
     "exception": false,
     "start_time": "2024-01-20T13:03:50.896410",
     "status": "completed"
    },
    "scrolled": true,
    "tags": []
   },
   "outputs": [],
   "source": [
    "# This Python 3 environment comes with many helpful analytics libraries installed\n",
    "# It is defined by the kaggle/python Docker image: https://github.com/kaggle/docker-python\n",
    "# For example, here's several helpful packages to load\n",
    "\n",
    "import numpy as np # linear algebra\n",
    "import pandas as pd # data processing, CSV file I/O (e.g. pd.read_csv)\n",
    "# You can write up to 20GB to the current directory (/kaggle/working/) that gets preserved as output when you create a version using \"Save & Run All\" \n",
    "# You can also write temporary files to /kaggle/temp/, but they won't be saved outside of the current session"
   ]
  },
  {
   "cell_type": "code",
   "execution_count": 3,
   "id": "2edba4bd",
   "metadata": {
    "papermill": {
     "duration": 13.539552,
     "end_time": "2024-01-20T13:04:05.304942",
     "exception": false,
     "start_time": "2024-01-20T13:03:51.765390",
     "status": "completed"
    },
    "tags": []
   },
   "outputs": [],
   "source": [
    "import os\n",
    "import tensorflow as tf\n",
    "from tensorflow import keras\n",
    "from tensorflow.keras.optimizers import Adam\n",
    "from sklearn.model_selection import train_test_split\n",
    "from tensorflow.keras.metrics import categorical_crossentropy\n",
    "from tensorflow.keras.models import Model, load_model, Sequential\n",
    "from sklearn.metrics import confusion_matrix, classification_report\n",
    "from tensorflow.keras.preprocessing.image import ImageDataGenerator\n",
    "from tensorflow.keras.layers import Conv2D, MaxPooling2D, Flatten, Dense, Activation, Dropout, BatchNormalization"
   ]
  },
  {
   "cell_type": "code",
   "execution_count": 5,
   "id": "79089ca5",
   "metadata": {
    "papermill": {
     "duration": 0.018821,
     "end_time": "2024-01-20T13:04:05.329220",
     "exception": false,
     "start_time": "2024-01-20T13:04:05.310399",
     "status": "completed"
    },
    "tags": []
   },
   "outputs": [
    {
     "name": "stdout",
     "output_type": "stream",
     "text": [
      "Number of classes: 2\n",
      "Target Names: ['apples', 'tomatoes']\n"
     ]
    }
   ],
   "source": [
    "import os\n",
    "\n",
    "# Specify the path to your dataset\n",
    "fpath = \"C:/Users/shikh/OneDrive/Desktop/apple_tomato/train\"\n",
    "dataset_path = fpath\n",
    "\n",
    "# Get a list of subdirectories (each subdirectory corresponds to a class)\n",
    "class_folders = [f.name for f in os.scandir(dataset_path) if f.is_dir()]\n",
    "\n",
    "# Get the number of classes\n",
    "num_classes = len(class_folders)\n",
    "\n",
    "# Print the number of classes\n",
    "print(\"Number of classes:\", num_classes)\n",
    "\n",
    "# Create a list of target_names based on the directory names\n",
    "target_names = class_folders\n",
    "print(\"Target Names:\", target_names)\n"
   ]
  },
  {
   "cell_type": "code",
   "execution_count": 13,
   "id": "ce64dfb5",
   "metadata": {
    "papermill": {
     "duration": 0.013272,
     "end_time": "2024-01-20T13:04:05.347827",
     "exception": false,
     "start_time": "2024-01-20T13:04:05.334555",
     "status": "completed"
    },
    "tags": []
   },
   "outputs": [],
   "source": [
    "img_size = 224\n",
    "batch_size =50\n",
    "fpath = \"C:/Users/shikh/OneDrive/Desktop/apple_tomato/train\"\n",
    "ffpath=\"C:/Users/shikh/OneDrive/Desktop/apple_tomato/test\"\n"
   ]
  },
  {
   "cell_type": "code",
   "execution_count": 15,
   "id": "188b8eef",
   "metadata": {
    "papermill": {
     "duration": 0.105221,
     "end_time": "2024-01-20T13:04:05.458695",
     "exception": false,
     "start_time": "2024-01-20T13:04:05.353474",
     "status": "completed"
    },
    "tags": []
   },
   "outputs": [
    {
     "name": "stdout",
     "output_type": "stream",
     "text": [
      "Found 236 images belonging to 2 classes.\n",
      "Found 58 images belonging to 2 classes.\n",
      "Found 97 images belonging to 2 classes.\n"
     ]
    }
   ],
   "source": [
    "from tensorflow.keras.preprocessing.image import ImageDataGenerator\n",
    "\n",
    "# Assuming 'fpath' is the path to your dataset and 'batch_size' is defined\n",
    "\n",
    "datagen = ImageDataGenerator(\n",
    "    rescale=1/255.,\n",
    "    zoom_range=0.2,\n",
    "    rotation_range=30,\n",
    "    validation_split=0.2,\n",
    "    horizontal_flip=True\n",
    ")\n",
    "\n",
    "train_gen = datagen.flow_from_directory(\n",
    "    fpath,\n",
    "    target_size=(224, 224),\n",
    "    subset=\"training\",\n",
    "    class_mode='categorical',\n",
    "    batch_size=batch_size\n",
    ")\n",
    "\n",
    "valid_gen = datagen.flow_from_directory(\n",
    "    fpath,\n",
    "    target_size=(224, 224),\n",
    "    batch_size=(batch_size),\n",
    "    subset='validation',\n",
    "    class_mode='categorical'\n",
    ")\n",
    "\n",
    "# For test data\n",
    "test_gen = ImageDataGenerator(rescale=1/255.).flow_from_directory(\n",
    "    ffpath,\n",
    "    target_size=(224, 224),\n",
    "    batch_size=50,\n",
    "    class_mode='categorical',\n",
    "    shuffle=False  # Set shuffle to False for test data\n",
    ")"
   ]
  },
  {
   "cell_type": "code",
   "execution_count": 19,
   "id": "1d45d63f",
   "metadata": {
    "_kg_hide-output": true,
    "papermill": {
     "duration": 117.372956,
     "end_time": "2024-01-20T13:06:02.837107",
     "exception": false,
     "start_time": "2024-01-20T13:04:05.464151",
     "status": "completed"
    },
    "scrolled": true,
    "tags": []
   },
   "outputs": [
    {
     "name": "stderr",
     "output_type": "stream",
     "text": [
      "D:\\anaconda3\\Lib\\site-packages\\keras\\src\\trainers\\data_adapters\\py_dataset_adapter.py:121: UserWarning: Your `PyDataset` class should call `super().__init__(**kwargs)` in its constructor. `**kwargs` can include `workers`, `use_multiprocessing`, `max_queue_size`. Do not pass these arguments to `fit()`, as they will be ignored.\n",
      "  self._warn_if_super_not_called()\n"
     ]
    },
    {
     "name": "stdout",
     "output_type": "stream",
     "text": [
      "Epoch 1/20\n",
      "\u001b[1m5/5\u001b[0m \u001b[32m━━━━━━━━━━━━━━━━━━━━\u001b[0m\u001b[37m\u001b[0m \u001b[1m0s\u001b[0m 7s/step - accuracy: 0.5157 - loss: 1.0613\n",
      "Epoch 1: val_accuracy improved from -inf to 0.55172, saving model to best_model.keras\n",
      "\u001b[1m5/5\u001b[0m \u001b[32m━━━━━━━━━━━━━━━━━━━━\u001b[0m\u001b[37m\u001b[0m \u001b[1m171s\u001b[0m 16s/step - accuracy: 0.5166 - loss: 1.0707 - val_accuracy: 0.5517 - val_loss: 0.7556\n",
      "Epoch 2/20\n",
      "\u001b[1m5/5\u001b[0m \u001b[32m━━━━━━━━━━━━━━━━━━━━\u001b[0m\u001b[37m\u001b[0m \u001b[1m0s\u001b[0m 7s/step - accuracy: 0.6375 - loss: 1.1450\n",
      "Epoch 2: val_accuracy did not improve from 0.55172\n",
      "\u001b[1m5/5\u001b[0m \u001b[32m━━━━━━━━━━━━━━━━━━━━\u001b[0m\u001b[37m\u001b[0m \u001b[1m46s\u001b[0m 9s/step - accuracy: 0.6337 - loss: 1.1721 - val_accuracy: 0.4483 - val_loss: 1.2563\n",
      "Epoch 3/20\n",
      "\u001b[1m5/5\u001b[0m \u001b[32m━━━━━━━━━━━━━━━━━━━━\u001b[0m\u001b[37m\u001b[0m \u001b[1m0s\u001b[0m 7s/step - accuracy: 0.5180 - loss: 1.1317\n",
      "Epoch 3: val_accuracy improved from 0.55172 to 0.56897, saving model to best_model.keras\n",
      "\u001b[1m5/5\u001b[0m \u001b[32m━━━━━━━━━━━━━━━━━━━━\u001b[0m\u001b[37m\u001b[0m \u001b[1m49s\u001b[0m 10s/step - accuracy: 0.5171 - loss: 1.1307 - val_accuracy: 0.5690 - val_loss: 0.7226\n",
      "Epoch 4/20\n",
      "\u001b[1m5/5\u001b[0m \u001b[32m━━━━━━━━━━━━━━━━━━━━\u001b[0m\u001b[37m\u001b[0m \u001b[1m0s\u001b[0m 7s/step - accuracy: 0.6489 - loss: 0.9967\n",
      "Epoch 4: val_accuracy did not improve from 0.56897\n",
      "\u001b[1m5/5\u001b[0m \u001b[32m━━━━━━━━━━━━━━━━━━━━\u001b[0m\u001b[37m\u001b[0m \u001b[1m45s\u001b[0m 9s/step - accuracy: 0.6467 - loss: 1.0003 - val_accuracy: 0.5517 - val_loss: 0.7339\n",
      "Epoch 5/20\n",
      "\u001b[1m5/5\u001b[0m \u001b[32m━━━━━━━━━━━━━━━━━━━━\u001b[0m\u001b[37m\u001b[0m \u001b[1m0s\u001b[0m 7s/step - accuracy: 0.6032 - loss: 0.9381\n",
      "Epoch 5: val_accuracy did not improve from 0.56897\n",
      "\u001b[1m5/5\u001b[0m \u001b[32m━━━━━━━━━━━━━━━━━━━━\u001b[0m\u001b[37m\u001b[0m \u001b[1m45s\u001b[0m 9s/step - accuracy: 0.5966 - loss: 0.9524 - val_accuracy: 0.5517 - val_loss: 0.7057\n",
      "Epoch 6/20\n",
      "\u001b[1m5/5\u001b[0m \u001b[32m━━━━━━━━━━━━━━━━━━━━\u001b[0m\u001b[37m\u001b[0m \u001b[1m0s\u001b[0m 7s/step - accuracy: 0.5815 - loss: 1.0427\n",
      "Epoch 6: val_accuracy improved from 0.56897 to 0.58621, saving model to best_model.keras\n",
      "\u001b[1m5/5\u001b[0m \u001b[32m━━━━━━━━━━━━━━━━━━━━\u001b[0m\u001b[37m\u001b[0m \u001b[1m49s\u001b[0m 10s/step - accuracy: 0.5870 - loss: 1.0375 - val_accuracy: 0.5862 - val_loss: 0.6856\n",
      "Epoch 7/20\n",
      "\u001b[1m5/5\u001b[0m \u001b[32m━━━━━━━━━━━━━━━━━━━━\u001b[0m\u001b[37m\u001b[0m \u001b[1m0s\u001b[0m 7s/step - accuracy: 0.6057 - loss: 0.7590\n",
      "Epoch 7: val_accuracy did not improve from 0.58621\n",
      "\u001b[1m5/5\u001b[0m \u001b[32m━━━━━━━━━━━━━━━━━━━━\u001b[0m\u001b[37m\u001b[0m \u001b[1m77s\u001b[0m 9s/step - accuracy: 0.6036 - loss: 0.7654 - val_accuracy: 0.5517 - val_loss: 0.8882\n",
      "Epoch 8/20\n",
      "\u001b[1m5/5\u001b[0m \u001b[32m━━━━━━━━━━━━━━━━━━━━\u001b[0m\u001b[37m\u001b[0m \u001b[1m0s\u001b[0m 7s/step - accuracy: 0.5608 - loss: 1.0382\n",
      "Epoch 8: val_accuracy did not improve from 0.58621\n",
      "\u001b[1m5/5\u001b[0m \u001b[32m━━━━━━━━━━━━━━━━━━━━\u001b[0m\u001b[37m\u001b[0m \u001b[1m46s\u001b[0m 9s/step - accuracy: 0.5641 - loss: 1.0191 - val_accuracy: 0.5517 - val_loss: 0.8756\n",
      "Epoch 9/20\n",
      "\u001b[1m5/5\u001b[0m \u001b[32m━━━━━━━━━━━━━━━━━━━━\u001b[0m\u001b[37m\u001b[0m \u001b[1m0s\u001b[0m 7s/step - accuracy: 0.5933 - loss: 0.8090\n",
      "Epoch 9: val_accuracy did not improve from 0.58621\n",
      "\u001b[1m5/5\u001b[0m \u001b[32m━━━━━━━━━━━━━━━━━━━━\u001b[0m\u001b[37m\u001b[0m \u001b[1m45s\u001b[0m 9s/step - accuracy: 0.5919 - loss: 0.8158 - val_accuracy: 0.5517 - val_loss: 0.6939\n",
      "Epoch 10/20\n",
      "\u001b[1m5/5\u001b[0m \u001b[32m━━━━━━━━━━━━━━━━━━━━\u001b[0m\u001b[37m\u001b[0m \u001b[1m0s\u001b[0m 7s/step - accuracy: 0.6190 - loss: 0.9224\n",
      "Epoch 10: val_accuracy did not improve from 0.58621\n",
      "\u001b[1m5/5\u001b[0m \u001b[32m━━━━━━━━━━━━━━━━━━━━\u001b[0m\u001b[37m\u001b[0m \u001b[1m47s\u001b[0m 9s/step - accuracy: 0.6204 - loss: 0.9236 - val_accuracy: 0.5517 - val_loss: 0.6844\n",
      "Epoch 11/20\n",
      "\u001b[1m5/5\u001b[0m \u001b[32m━━━━━━━━━━━━━━━━━━━━\u001b[0m\u001b[37m\u001b[0m \u001b[1m0s\u001b[0m 7s/step - accuracy: 0.6258 - loss: 0.7775\n",
      "Epoch 11: val_accuracy did not improve from 0.58621\n",
      "\u001b[1m5/5\u001b[0m \u001b[32m━━━━━━━━━━━━━━━━━━━━\u001b[0m\u001b[37m\u001b[0m \u001b[1m46s\u001b[0m 10s/step - accuracy: 0.6239 - loss: 0.7717 - val_accuracy: 0.5517 - val_loss: 0.7019\n",
      "Epoch 12/20\n",
      "\u001b[1m5/5\u001b[0m \u001b[32m━━━━━━━━━━━━━━━━━━━━\u001b[0m\u001b[37m\u001b[0m \u001b[1m0s\u001b[0m 7s/step - accuracy: 0.6557 - loss: 0.6976\n",
      "Epoch 12: val_accuracy did not improve from 0.58621\n",
      "\u001b[1m5/5\u001b[0m \u001b[32m━━━━━━━━━━━━━━━━━━━━\u001b[0m\u001b[37m\u001b[0m \u001b[1m46s\u001b[0m 9s/step - accuracy: 0.6552 - loss: 0.6972 - val_accuracy: 0.5517 - val_loss: 0.8288\n",
      "Epoch 13/20\n",
      "\u001b[1m5/5\u001b[0m \u001b[32m━━━━━━━━━━━━━━━━━━━━\u001b[0m\u001b[37m\u001b[0m \u001b[1m0s\u001b[0m 7s/step - accuracy: 0.6055 - loss: 0.8311\n",
      "Epoch 13: val_accuracy did not improve from 0.58621\n",
      "\u001b[1m5/5\u001b[0m \u001b[32m━━━━━━━━━━━━━━━━━━━━\u001b[0m\u001b[37m\u001b[0m \u001b[1m45s\u001b[0m 9s/step - accuracy: 0.6056 - loss: 0.8219 - val_accuracy: 0.5517 - val_loss: 0.7014\n",
      "Epoch 14/20\n",
      "\u001b[1m5/5\u001b[0m \u001b[32m━━━━━━━━━━━━━━━━━━━━\u001b[0m\u001b[37m\u001b[0m \u001b[1m0s\u001b[0m 7s/step - accuracy: 0.6243 - loss: 0.6887\n",
      "Epoch 14: val_accuracy did not improve from 0.58621\n",
      "\u001b[1m5/5\u001b[0m \u001b[32m━━━━━━━━━━━━━━━━━━━━\u001b[0m\u001b[37m\u001b[0m \u001b[1m46s\u001b[0m 9s/step - accuracy: 0.6226 - loss: 0.6950 - val_accuracy: 0.5517 - val_loss: 0.6847\n",
      "Epoch 15/20\n",
      "\u001b[1m5/5\u001b[0m \u001b[32m━━━━━━━━━━━━━━━━━━━━\u001b[0m\u001b[37m\u001b[0m \u001b[1m0s\u001b[0m 7s/step - accuracy: 0.6068 - loss: 0.7759\n",
      "Epoch 15: val_accuracy did not improve from 0.58621\n",
      "\u001b[1m5/5\u001b[0m \u001b[32m━━━━━━━━━━━━━━━━━━━━\u001b[0m\u001b[37m\u001b[0m \u001b[1m47s\u001b[0m 9s/step - accuracy: 0.5989 - loss: 0.7872 - val_accuracy: 0.4483 - val_loss: 0.6956\n",
      "Epoch 16/20\n",
      "\u001b[1m5/5\u001b[0m \u001b[32m━━━━━━━━━━━━━━━━━━━━\u001b[0m\u001b[37m\u001b[0m \u001b[1m0s\u001b[0m 7s/step - accuracy: 0.6774 - loss: 0.6318\n",
      "Epoch 16: val_accuracy did not improve from 0.58621\n",
      "\u001b[1m5/5\u001b[0m \u001b[32m━━━━━━━━━━━━━━━━━━━━\u001b[0m\u001b[37m\u001b[0m \u001b[1m46s\u001b[0m 9s/step - accuracy: 0.6782 - loss: 0.6392 - val_accuracy: 0.4483 - val_loss: 0.7152\n",
      "Epoch 17/20\n",
      "\u001b[1m5/5\u001b[0m \u001b[32m━━━━━━━━━━━━━━━━━━━━\u001b[0m\u001b[37m\u001b[0m \u001b[1m0s\u001b[0m 7s/step - accuracy: 0.6155 - loss: 0.7822\n",
      "Epoch 17: val_accuracy did not improve from 0.58621\n",
      "\u001b[1m5/5\u001b[0m \u001b[32m━━━━━━━━━━━━━━━━━━━━\u001b[0m\u001b[37m\u001b[0m \u001b[1m46s\u001b[0m 9s/step - accuracy: 0.6153 - loss: 0.7735 - val_accuracy: 0.4483 - val_loss: 0.6923\n",
      "Epoch 18/20\n",
      "\u001b[1m5/5\u001b[0m \u001b[32m━━━━━━━━━━━━━━━━━━━━\u001b[0m\u001b[37m\u001b[0m \u001b[1m0s\u001b[0m 7s/step - accuracy: 0.5568 - loss: 0.7222\n",
      "Epoch 18: val_accuracy did not improve from 0.58621\n",
      "\u001b[1m5/5\u001b[0m \u001b[32m━━━━━━━━━━━━━━━━━━━━\u001b[0m\u001b[37m\u001b[0m \u001b[1m46s\u001b[0m 9s/step - accuracy: 0.5579 - loss: 0.7199 - val_accuracy: 0.5517 - val_loss: 0.6854\n",
      "Epoch 19/20\n",
      "\u001b[1m5/5\u001b[0m \u001b[32m━━━━━━━━━━━━━━━━━━━━\u001b[0m\u001b[37m\u001b[0m \u001b[1m0s\u001b[0m 7s/step - accuracy: 0.6120 - loss: 0.6391\n",
      "Epoch 19: val_accuracy did not improve from 0.58621\n",
      "\u001b[1m5/5\u001b[0m \u001b[32m━━━━━━━━━━━━━━━━━━━━\u001b[0m\u001b[37m\u001b[0m \u001b[1m46s\u001b[0m 9s/step - accuracy: 0.6103 - loss: 0.6407 - val_accuracy: 0.5517 - val_loss: 0.6890\n",
      "Epoch 20/20\n",
      "\u001b[1m5/5\u001b[0m \u001b[32m━━━━━━━━━━━━━━━━━━━━\u001b[0m\u001b[37m\u001b[0m \u001b[1m0s\u001b[0m 8s/step - accuracy: 0.5928 - loss: 0.7527\n",
      "Epoch 20: val_accuracy did not improve from 0.58621\n",
      "\u001b[1m5/5\u001b[0m \u001b[32m━━━━━━━━━━━━━━━━━━━━\u001b[0m\u001b[37m\u001b[0m \u001b[1m52s\u001b[0m 11s/step - accuracy: 0.5936 - loss: 0.7506 - val_accuracy: 0.5517 - val_loss: 0.6839\n"
     ]
    }
   ],
   "source": [
    "import tensorflow as tf\n",
    "from tensorflow.keras.models import Sequential\n",
    "from tensorflow.keras.layers import Dense, Dropout, BatchNormalization\n",
    "from tensorflow.keras.callbacks import ModelCheckpoint\n",
    "\n",
    "# Assuming train_gen and valid_gen are your image data generators\n",
    "\n",
    "img_size = (224, 224)\n",
    "channels = 3\n",
    "img_shape = (img_size[0], img_size[1], channels)\n",
    "class_count = len(list(train_gen.class_indices.keys()))\n",
    "\n",
    "# Create pre-trained model\n",
    "base_model = tf.keras.applications.EfficientNetB3(include_top=False, weights=\"imagenet\", input_shape=img_shape, pooling='max')\n",
    "for layer in base_model.layers:\n",
    "    layer.trainable = False\n",
    "model = Sequential([\n",
    "    base_model,\n",
    "    BatchNormalization(),\n",
    "    Dense(256, activation='relu'),\n",
    "    Dropout(0.3),\n",
    "     Dense(64, activation='relu'),\n",
    "    Dropout(0.3),\n",
    "    Dense(class_count, activation='softmax')\n",
    "])\n",
    "\n",
    "optimizer = tf.keras.optimizers.Adam()\n",
    "model.compile(optimizer=optimizer, loss='categorical_crossentropy', metrics=['accuracy'])\n",
    "\n",
    "# Define filepath to save the best model\n",
    "# Define filepath to save the best model\n",
    "filepath = 'best_model.keras'  # Change from .h5 to .keras\n",
    "\n",
    "# Create ModelCheckpoint callback to save the best model based on validation accuracy\n",
    "checkpoint = ModelCheckpoint(filepath, monitor='val_accuracy', verbose=1, save_best_only=True, mode='max')\n",
    "\n",
    "# Train the model with the added callback\n",
    "\n",
    "history = model.fit(\n",
    "    x=train_gen,\n",
    "    epochs=20,\n",
    "    verbose=1,\n",
    "    validation_data=valid_gen,\n",
    "    callbacks=[checkpoint]\n",
    ")"
   ]
  },
  {
   "cell_type": "code",
   "execution_count": 23,
   "id": "cd95786d",
   "metadata": {
    "papermill": {
     "duration": 16.500483,
     "end_time": "2024-01-20T13:06:19.357176",
     "exception": false,
     "start_time": "2024-01-20T13:06:02.856693",
     "status": "completed"
    },
    "tags": []
   },
   "outputs": [
    {
     "name": "stdout",
     "output_type": "stream",
     "text": [
      "\u001b[1m5/5\u001b[0m \u001b[32m━━━━━━━━━━━━━━━━━━━━\u001b[0m\u001b[37m\u001b[0m \u001b[1m73s\u001b[0m 8s/step - accuracy: 0.7192 - loss: 0.6723\n",
      "\u001b[1m2/2\u001b[0m \u001b[32m━━━━━━━━━━━━━━━━━━━━\u001b[0m\u001b[37m\u001b[0m \u001b[1m10s\u001b[0m 1s/step - accuracy: 0.5660 - loss: 0.6844\n",
      "\u001b[1m2/2\u001b[0m \u001b[32m━━━━━━━━━━━━━━━━━━━━\u001b[0m\u001b[37m\u001b[0m \u001b[1m13s\u001b[0m 6s/step - accuracy: 0.6528 - loss: 0.6801\n",
      "Train Loss:  0.6731961965560913\n",
      "Train Accuracy:  0.6991525292396545\n",
      "--------------------\n",
      "Validation Loss:  0.684337854385376\n",
      "Validation Accuracy:  0.568965494632721\n",
      "--------------------\n",
      "Test Loss:  0.679335355758667\n",
      "Test Accuracy:  0.6391752362251282\n"
     ]
    }
   ],
   "source": [
    "import tensorflow as tf\n",
    "from tensorflow.keras.models import load_model, Model\n",
    "from tensorflow.keras.layers import Input, Average\n",
    "\n",
    "\n",
    "\n",
    "model= load_model('best_model.keras')\n",
    "\n",
    "train_score = model.evaluate(train_gen, steps= len(train_gen), verbose= 1)\n",
    "valid_score = model.evaluate(valid_gen, steps= len(valid_gen), verbose= 1)\n",
    "test_score = model.evaluate(test_gen, steps= len(test_gen), verbose= 1)\n",
    "\n",
    "print(\"Train Loss: \", train_score[0])\n",
    "print(\"Train Accuracy: \", train_score[1])\n",
    "print('-' * 20)\n",
    "print(\"Validation Loss: \", valid_score[0])\n",
    "print(\"Validation Accuracy: \", valid_score[1])\n",
    "print('-' * 20)\n",
    "print(\"Test Loss: \", test_score[0])\n",
    "print(\"Test Accuracy: \", test_score[1])"
   ]
  },
  {
   "cell_type": "code",
   "execution_count": 27,
   "id": "7bc6f1d6",
   "metadata": {
    "papermill": {
     "duration": 8.218409,
     "end_time": "2024-01-20T13:06:27.596530",
     "exception": false,
     "start_time": "2024-01-20T13:06:19.378121",
     "status": "completed"
    },
    "tags": []
   },
   "outputs": [
    {
     "name": "stdout",
     "output_type": "stream",
     "text": [
      "\u001b[1m2/2\u001b[0m \u001b[32m━━━━━━━━━━━━━━━━━━━━\u001b[0m\u001b[37m\u001b[0m \u001b[1m50s\u001b[0m 25s/step\n",
      "[1 0 1 0 1 0 0 0 0 0 1 0 1 0 0 0 0 0 1 0 0 0 0 1 0 1 1 0 1 0 1 0 1 0 0 0 0\n",
      " 1 0 1 0 1 0 0 0 1 0 0 0 0 0 0 0 1 1 1 0 1 0 1 1 0 0 0 1 1 1 1 0 1 0 0 1 0\n",
      " 0 1 0 1 1 1 0 0 1 0 0 0 1 1 1 0 1 1 1 1 1 0 1]\n"
     ]
    }
   ],
   "source": [
    "\n",
    "model = load_model('best_model.keras')\n",
    "\n",
    "# Predict using the updated method\n",
    "preds = model.predict(test_gen)  # Use `predict` instead of `predict_generator`\n",
    "y_pred = np.argmax(preds, axis=1)\n",
    "\n",
    "# Print predicted labels\n",
    "print(y_pred)"
   ]
  },
  {
   "cell_type": "code",
   "execution_count": 29,
   "id": "cd085051",
   "metadata": {
    "papermill": {
     "duration": 0.031014,
     "end_time": "2024-01-20T13:06:27.648944",
     "exception": false,
     "start_time": "2024-01-20T13:06:27.617930",
     "status": "completed"
    },
    "tags": []
   },
   "outputs": [],
   "source": [
    "import itertools\n",
    "import matplotlib.pyplot as plt\n",
    "def plot_confusion_matrix(cm, classes, normalize= False, title= 'Confusion Matrix', cmap= plt.cm.Blues):\n",
    "    plt.figure(figsize= (10, 10))\n",
    "    plt.imshow(cm, interpolation= 'nearest', cmap= cmap)\n",
    "    plt.title(title)\n",
    "    plt.colorbar()\n",
    "    tick_marks = np.arange(len(classes))\n",
    "    plt.xticks(tick_marks, classes, rotation= 45)\n",
    "    plt.yticks(tick_marks, classes)\n",
    "    if normalize:\n",
    "        cm = cm.astype('float') / cm.sum(axis= 1)[:, np.newaxis]\n",
    "        print('Normalized Confusion Matrix')\n",
    "    else:\n",
    "        print('Confusion Matrix, Without Normalization')\n",
    "    print(cm)\n",
    "    thresh = cm.max() / 2.\n",
    "    for i, j in itertools.product(range(cm.shape[0]), range(cm.shape[1])):\n",
    "        plt.text(j, i, cm[i, j], horizontalalignment= 'center', color= 'white' if cm[i, j] > thresh else 'black')\n",
    "    plt.tight_layout()\n",
    "    plt.ylabel('True Label')\n",
    "    plt.xlabel('Predicted Label')"
   ]
  },
  {
   "cell_type": "code",
   "execution_count": 31,
   "id": "98518ac5",
   "metadata": {
    "papermill": {
     "duration": 0.531275,
     "end_time": "2024-01-20T13:06:28.200215",
     "exception": false,
     "start_time": "2024-01-20T13:06:27.668940",
     "status": "completed"
    },
    "tags": []
   },
   "outputs": [
    {
     "name": "stdout",
     "output_type": "stream",
     "text": [
      "Confusion Matrix, Without Normalization\n",
      "[[37 17]\n",
      " [18 25]]\n",
      "              precision    recall  f1-score   support\n",
      "\n",
      "      apples       0.67      0.69      0.68        54\n",
      "    tomatoes       0.60      0.58      0.59        43\n",
      "\n",
      "    accuracy                           0.64        97\n",
      "   macro avg       0.63      0.63      0.63        97\n",
      "weighted avg       0.64      0.64      0.64        97\n",
      "\n"
     ]
    },
    {
     "data": {
      "image/png": "[encoded data removed]",
      "text/plain": [
       "<Figure size 1000x1000 with 2 Axes>"
      ]
     },
     "metadata": {},
     "output_type": "display_data"
    }
   ],
   "source": [
    "from sklearn.metrics import confusion_matrix, classification_report\n",
    "import matplotlib.pyplot as plt\n",
    "\n",
    "# Confusion matrix\n",
    "cm = confusion_matrix(test_gen.classes, y_pred)\n",
    "plot_confusion_matrix(cm= cm, classes= target_names, title = 'Confusion Matrix')\n",
    "# Classification report\n",
    "print(classification_report(test_gen.classes, y_pred, target_names= target_names))"
   ]
  },
  {
   "cell_type": "code",
   "execution_count": 35,
   "id": "dbfe13dd",
   "metadata": {
    "_kg_hide-output": true,
    "papermill": {
     "duration": 101.88662,
     "end_time": "2024-01-20T13:08:10.107902",
     "exception": false,
     "start_time": "2024-01-20T13:06:28.221282",
     "status": "completed"
    },
    "scrolled": true,
    "tags": []
   },
   "outputs": [
    {
     "name": "stdout",
     "output_type": "stream",
     "text": [
      "Epoch 1/20\n",
      "\u001b[1m5/5\u001b[0m \u001b[32m━━━━━━━━━━━━━━━━━━━━\u001b[0m\u001b[37m\u001b[0m \u001b[1m0s\u001b[0m 10s/step - accuracy: 0.5780 - loss: 0.8550 \n",
      "Epoch 1: val_accuracy improved from -inf to 0.60345, saving model to best_model_resnet.keras\n",
      "\u001b[1m5/5\u001b[0m \u001b[32m━━━━━━━━━━━━━━━━━━━━\u001b[0m\u001b[37m\u001b[0m \u001b[1m120s\u001b[0m 17s/step - accuracy: 0.5784 - loss: 0.8601 - val_accuracy: 0.6034 - val_loss: 0.7188\n",
      "Epoch 2/20\n",
      "\u001b[1m5/5\u001b[0m \u001b[32m━━━━━━━━━━━━━━━━━━━━\u001b[0m\u001b[37m\u001b[0m \u001b[1m0s\u001b[0m 10s/step - accuracy: 0.6739 - loss: 0.6135 \n",
      "Epoch 2: val_accuracy did not improve from 0.60345\n",
      "\u001b[1m5/5\u001b[0m \u001b[32m━━━━━━━━━━━━━━━━━━━━\u001b[0m\u001b[37m\u001b[0m \u001b[1m63s\u001b[0m 13s/step - accuracy: 0.6795 - loss: 0.6043 - val_accuracy: 0.5862 - val_loss: 0.6760\n",
      "Epoch 3/20\n",
      "\u001b[1m5/5\u001b[0m \u001b[32m━━━━━━━━━━━━━━━━━━━━\u001b[0m\u001b[37m\u001b[0m \u001b[1m0s\u001b[0m 9s/step - accuracy: 0.7060 - loss: 0.5368 \n",
      "Epoch 3: val_accuracy did not improve from 0.60345\n",
      "\u001b[1m5/5\u001b[0m \u001b[32m━━━━━━━━━━━━━━━━━━━━\u001b[0m\u001b[37m\u001b[0m \u001b[1m63s\u001b[0m 13s/step - accuracy: 0.7105 - loss: 0.5334 - val_accuracy: 0.5517 - val_loss: 1.0039\n",
      "Epoch 4/20\n",
      "\u001b[1m5/5\u001b[0m \u001b[32m━━━━━━━━━━━━━━━━━━━━\u001b[0m\u001b[37m\u001b[0m \u001b[1m0s\u001b[0m 9s/step - accuracy: 0.7361 - loss: 0.5847 \n",
      "Epoch 4: val_accuracy did not improve from 0.60345\n",
      "\u001b[1m5/5\u001b[0m \u001b[32m━━━━━━━━━━━━━━━━━━━━\u001b[0m\u001b[37m\u001b[0m \u001b[1m63s\u001b[0m 13s/step - accuracy: 0.7370 - loss: 0.5820 - val_accuracy: 0.5517 - val_loss: 1.2058\n",
      "Epoch 5/20\n",
      "\u001b[1m5/5\u001b[0m \u001b[32m━━━━━━━━━━━━━━━━━━━━\u001b[0m\u001b[37m\u001b[0m \u001b[1m0s\u001b[0m 9s/step - accuracy: 0.7875 - loss: 0.4574 \n",
      "Epoch 5: val_accuracy did not improve from 0.60345\n",
      "\u001b[1m5/5\u001b[0m \u001b[32m━━━━━━━━━━━━━━━━━━━━\u001b[0m\u001b[37m\u001b[0m \u001b[1m62s\u001b[0m 12s/step - accuracy: 0.7820 - loss: 0.4757 - val_accuracy: 0.5517 - val_loss: 1.5676\n",
      "Epoch 6/20\n",
      "\u001b[1m5/5\u001b[0m \u001b[32m━━━━━━━━━━━━━━━━━━━━\u001b[0m\u001b[37m\u001b[0m \u001b[1m0s\u001b[0m 9s/step - accuracy: 0.7844 - loss: 0.4862\n",
      "Epoch 6: val_accuracy did not improve from 0.60345\n",
      "\u001b[1m5/5\u001b[0m \u001b[32m━━━━━━━━━━━━━━━━━━━━\u001b[0m\u001b[37m\u001b[0m \u001b[1m64s\u001b[0m 13s/step - accuracy: 0.7858 - loss: 0.4875 - val_accuracy: 0.5517 - val_loss: 2.2810\n",
      "Epoch 7/20\n",
      "\u001b[1m5/5\u001b[0m \u001b[32m━━━━━━━━━━━━━━━━━━━━\u001b[0m\u001b[37m\u001b[0m \u001b[1m0s\u001b[0m 11s/step - accuracy: 0.7686 - loss: 0.4975 \n",
      "Epoch 7: val_accuracy did not improve from 0.60345\n",
      "\u001b[1m5/5\u001b[0m \u001b[32m━━━━━━━━━━━━━━━━━━━━\u001b[0m\u001b[37m\u001b[0m \u001b[1m66s\u001b[0m 14s/step - accuracy: 0.7634 - loss: 0.5022 - val_accuracy: 0.5517 - val_loss: 2.1722\n",
      "Epoch 8/20\n",
      "\u001b[1m5/5\u001b[0m \u001b[32m━━━━━━━━━━━━━━━━━━━━\u001b[0m\u001b[37m\u001b[0m \u001b[1m0s\u001b[0m 10s/step - accuracy: 0.8137 - loss: 0.4234 \n",
      "Epoch 8: val_accuracy did not improve from 0.60345\n",
      "\u001b[1m5/5\u001b[0m \u001b[32m━━━━━━━━━━━━━━━━━━━━\u001b[0m\u001b[37m\u001b[0m \u001b[1m64s\u001b[0m 14s/step - accuracy: 0.8088 - loss: 0.4288 - val_accuracy: 0.5517 - val_loss: 1.6230\n",
      "Epoch 9/20\n",
      "\u001b[1m5/5\u001b[0m \u001b[32m━━━━━━━━━━━━━━━━━━━━\u001b[0m\u001b[37m\u001b[0m \u001b[1m0s\u001b[0m 10s/step - accuracy: 0.7986 - loss: 0.4435\n",
      "Epoch 9: val_accuracy did not improve from 0.60345\n",
      "\u001b[1m5/5\u001b[0m \u001b[32m━━━━━━━━━━━━━━━━━━━━\u001b[0m\u001b[37m\u001b[0m \u001b[1m65s\u001b[0m 13s/step - accuracy: 0.7969 - loss: 0.4466 - val_accuracy: 0.5517 - val_loss: 1.5715\n",
      "Epoch 10/20\n",
      "\u001b[1m5/5\u001b[0m \u001b[32m━━━━━━━━━━━━━━━━━━━━\u001b[0m\u001b[37m\u001b[0m \u001b[1m0s\u001b[0m 9s/step - accuracy: 0.7917 - loss: 0.4546\n",
      "Epoch 10: val_accuracy did not improve from 0.60345\n",
      "\u001b[1m5/5\u001b[0m \u001b[32m━━━━━━━━━━━━━━━━━━━━\u001b[0m\u001b[37m\u001b[0m \u001b[1m64s\u001b[0m 13s/step - accuracy: 0.7925 - loss: 0.4524 - val_accuracy: 0.5517 - val_loss: 1.5174\n",
      "Epoch 11/20\n",
      "\u001b[1m5/5\u001b[0m \u001b[32m━━━━━━━━━━━━━━━━━━━━\u001b[0m\u001b[37m\u001b[0m \u001b[1m0s\u001b[0m 10s/step - accuracy: 0.7730 - loss: 0.4288\n",
      "Epoch 11: val_accuracy did not improve from 0.60345\n",
      "\u001b[1m5/5\u001b[0m \u001b[32m━━━━━━━━━━━━━━━━━━━━\u001b[0m\u001b[37m\u001b[0m \u001b[1m64s\u001b[0m 13s/step - accuracy: 0.7776 - loss: 0.4298 - val_accuracy: 0.5517 - val_loss: 1.2143\n",
      "Epoch 12/20\n",
      "\u001b[1m5/5\u001b[0m \u001b[32m━━━━━━━━━━━━━━━━━━━━\u001b[0m\u001b[37m\u001b[0m \u001b[1m0s\u001b[0m 9s/step - accuracy: 0.8162 - loss: 0.4339  \n",
      "Epoch 12: val_accuracy did not improve from 0.60345\n",
      "\u001b[1m5/5\u001b[0m \u001b[32m━━━━━━━━━━━━━━━━━━━━\u001b[0m\u001b[37m\u001b[0m \u001b[1m63s\u001b[0m 13s/step - accuracy: 0.8151 - loss: 0.4320 - val_accuracy: 0.5517 - val_loss: 1.2470\n",
      "Epoch 13/20\n",
      "\u001b[1m5/5\u001b[0m \u001b[32m━━━━━━━━━━━━━━━━━━━━\u001b[0m\u001b[37m\u001b[0m \u001b[1m0s\u001b[0m 9s/step - accuracy: 0.8178 - loss: 0.3628\n",
      "Epoch 13: val_accuracy did not improve from 0.60345\n",
      "\u001b[1m5/5\u001b[0m \u001b[32m━━━━━━━━━━━━━━━━━━━━\u001b[0m\u001b[37m\u001b[0m \u001b[1m63s\u001b[0m 13s/step - accuracy: 0.8157 - loss: 0.3689 - val_accuracy: 0.5690 - val_loss: 1.2471\n",
      "Epoch 14/20\n",
      "\u001b[1m5/5\u001b[0m \u001b[32m━━━━━━━━━━━━━━━━━━━━\u001b[0m\u001b[37m\u001b[0m \u001b[1m0s\u001b[0m 9s/step - accuracy: 0.8251 - loss: 0.3816 \n",
      "Epoch 14: val_accuracy did not improve from 0.60345\n",
      "\u001b[1m5/5\u001b[0m \u001b[32m━━━━━━━━━━━━━━━━━━━━\u001b[0m\u001b[37m\u001b[0m \u001b[1m64s\u001b[0m 13s/step - accuracy: 0.8288 - loss: 0.3780 - val_accuracy: 0.5517 - val_loss: 1.0773\n",
      "Epoch 15/20\n",
      "\u001b[1m5/5\u001b[0m \u001b[32m━━━━━━━━━━━━━━━━━━━━\u001b[0m\u001b[37m\u001b[0m \u001b[1m0s\u001b[0m 10s/step - accuracy: 0.8094 - loss: 0.3726 \n",
      "Epoch 15: val_accuracy did not improve from 0.60345\n",
      "\u001b[1m5/5\u001b[0m \u001b[32m━━━━━━━━━━━━━━━━━━━━\u001b[0m\u001b[37m\u001b[0m \u001b[1m65s\u001b[0m 14s/step - accuracy: 0.8115 - loss: 0.3702 - val_accuracy: 0.5345 - val_loss: 0.9674\n",
      "Epoch 16/20\n",
      "\u001b[1m5/5\u001b[0m \u001b[32m━━━━━━━━━━━━━━━━━━━━\u001b[0m\u001b[37m\u001b[0m \u001b[1m0s\u001b[0m 9s/step - accuracy: 0.8595 - loss: 0.3284  \n",
      "Epoch 16: val_accuracy did not improve from 0.60345\n",
      "\u001b[1m5/5\u001b[0m \u001b[32m━━━━━━━━━━━━━━━━━━━━\u001b[0m\u001b[37m\u001b[0m \u001b[1m64s\u001b[0m 13s/step - accuracy: 0.8604 - loss: 0.3292 - val_accuracy: 0.5690 - val_loss: 0.9246\n",
      "Epoch 17/20\n",
      "\u001b[1m5/5\u001b[0m \u001b[32m━━━━━━━━━━━━━━━━━━━━\u001b[0m\u001b[37m\u001b[0m \u001b[1m0s\u001b[0m 10s/step - accuracy: 0.8341 - loss: 0.3594\n",
      "Epoch 17: val_accuracy did not improve from 0.60345\n",
      "\u001b[1m5/5\u001b[0m \u001b[32m━━━━━━━━━━━━━━━━━━━━\u001b[0m\u001b[37m\u001b[0m \u001b[1m65s\u001b[0m 13s/step - accuracy: 0.8349 - loss: 0.3562 - val_accuracy: 0.5690 - val_loss: 0.9800\n",
      "Epoch 18/20\n",
      "\u001b[1m5/5\u001b[0m \u001b[32m━━━━━━━━━━━━━━━━━━━━\u001b[0m\u001b[37m\u001b[0m \u001b[1m0s\u001b[0m 9s/step - accuracy: 0.8753 - loss: 0.2988  \n",
      "Epoch 18: val_accuracy did not improve from 0.60345\n",
      "\u001b[1m5/5\u001b[0m \u001b[32m━━━━━━━━━━━━━━━━━━━━\u001b[0m\u001b[37m\u001b[0m \u001b[1m63s\u001b[0m 13s/step - accuracy: 0.8700 - loss: 0.3069 - val_accuracy: 0.5862 - val_loss: 1.3114\n",
      "Epoch 19/20\n",
      "\u001b[1m5/5\u001b[0m \u001b[32m━━━━━━━━━━━━━━━━━━━━\u001b[0m\u001b[37m\u001b[0m \u001b[1m0s\u001b[0m 9s/step - accuracy: 0.8855 - loss: 0.2926  \n",
      "Epoch 19: val_accuracy did not improve from 0.60345\n",
      "\u001b[1m5/5\u001b[0m \u001b[32m━━━━━━━━━━━━━━━━━━━━\u001b[0m\u001b[37m\u001b[0m \u001b[1m63s\u001b[0m 13s/step - accuracy: 0.8855 - loss: 0.2934 - val_accuracy: 0.5517 - val_loss: 1.4981\n",
      "Epoch 20/20\n",
      "\u001b[1m5/5\u001b[0m \u001b[32m━━━━━━━━━━━━━━━━━━━━\u001b[0m\u001b[37m\u001b[0m \u001b[1m0s\u001b[0m 9s/step - accuracy: 0.8770 - loss: 0.3386\n",
      "Epoch 20: val_accuracy did not improve from 0.60345\n",
      "\u001b[1m5/5\u001b[0m \u001b[32m━━━━━━━━━━━━━━━━━━━━\u001b[0m\u001b[37m\u001b[0m \u001b[1m63s\u001b[0m 13s/step - accuracy: 0.8784 - loss: 0.3341 - val_accuracy: 0.5517 - val_loss: 1.6620\n"
     ]
    }
   ],
   "source": [
    "import tensorflow as tf\n",
    "from tensorflow.keras.models import Sequential\n",
    "from tensorflow.keras.layers import Dense, Dropout, BatchNormalization\n",
    "from tensorflow.keras.callbacks import ModelCheckpoint\n",
    "\n",
    "# Assuming train_gen and valid_gen are your image data generators\n",
    "\n",
    "img_size = (224, 224)\n",
    "channels = 3\n",
    "img_shape = (img_size[0], img_size[1], channels)\n",
    "class_count = len(list(train_gen.class_indices.keys()))\n",
    "\n",
    "# Create pre-trained model\n",
    "base_model = tf.keras.applications.ResNet50(include_top=False, weights=\"imagenet\", input_shape=img_shape, pooling='max')\n",
    "for layer in base_model.layers:\n",
    "    layer.trainable = False\n",
    "model = Sequential([\n",
    "    base_model,\n",
    "    BatchNormalization(),\n",
    "    Dense(256, activation='relu'),\n",
    "    Dropout(0.3),\n",
    "     Dense(64, activation='relu'),\n",
    "    Dropout(0.3),\n",
    "    Dense(class_count, activation='softmax')\n",
    "])\n",
    "\n",
    "optimizer = tf.keras.optimizers.Adam()\n",
    "model.compile(optimizer=optimizer, loss='categorical_crossentropy', metrics=['accuracy'])\n",
    "\n",
    "# Define filepath to save the best model\n",
    "filepath = 'best_model_resnet.keras'\n",
    "\n",
    "# Create ModelCheckpoint callback to save the best model based on validation accuracy\n",
    "checkpoint = ModelCheckpoint(filepath, monitor='val_accuracy', verbose=1, save_best_only=True, mode='max')\n",
    "# Train the model with the added callback\n",
    "history = model.fit(\n",
    "    x=train_gen,\n",
    "    epochs=20,\n",
    "    verbose=1,\n",
    "    validation_data=valid_gen,\n",
    "    callbacks=[checkpoint]\n",
    ")"
   ]
  },
  {
   "cell_type": "code",
   "execution_count": 37,
   "id": "4fb8998e",
   "metadata": {
    "papermill": {
     "duration": 11.36347,
     "end_time": "2024-01-20T13:08:21.504675",
     "exception": false,
     "start_time": "2024-01-20T13:08:10.141205",
     "status": "completed"
    },
    "tags": []
   },
   "outputs": [
    {
     "name": "stdout",
     "output_type": "stream",
     "text": [
      "\u001b[1m5/5\u001b[0m \u001b[32m━━━━━━━━━━━━━━━━━━━━\u001b[0m\u001b[37m\u001b[0m \u001b[1m65s\u001b[0m 9s/step - accuracy: 0.6352 - loss: 0.6409\n",
      "\u001b[1m2/2\u001b[0m \u001b[32m━━━━━━━━━━━━━━━━━━━━\u001b[0m\u001b[37m\u001b[0m \u001b[1m14s\u001b[0m 2s/step - accuracy: 0.6138 - loss: 0.6926\n",
      "\u001b[1m2/2\u001b[0m \u001b[32m━━━━━━━━━━━━━━━━━━━━\u001b[0m\u001b[37m\u001b[0m \u001b[1m19s\u001b[0m 9s/step - accuracy: 0.7397 - loss: 0.5005\n",
      "Train Loss:  0.6367223262786865\n",
      "Train Accuracy:  0.6398305296897888\n",
      "--------------------\n",
      "Validation Loss:  0.6958842873573303\n",
      "Validation Accuracy:  0.6206896305084229\n",
      "--------------------\n",
      "Test Loss:  0.5969865918159485\n",
      "Test Accuracy:  0.6494845151901245\n"
     ]
    }
   ],
   "source": [
    "import tensorflow as tf\n",
    "from tensorflow.keras.models import load_model, Model\n",
    "from tensorflow.keras.layers import Input, Average\n",
    "\n",
    "\n",
    "\n",
    "model= load_model('best_model_resnet.keras')\n",
    "\n",
    "\n",
    "train_score = model.evaluate(train_gen, steps= len(train_gen), verbose= 1)\n",
    "valid_score = model.evaluate(valid_gen, steps= len(valid_gen), verbose= 1)\n",
    "test_score = model.evaluate(test_gen, steps= len(test_gen), verbose= 1)\n",
    "\n",
    "print(\"Train Loss: \", train_score[0])\n",
    "print(\"Train Accuracy: \", train_score[1])\n",
    "print('-' * 20)\n",
    "print(\"Validation Loss: \", valid_score[0])\n",
    "print(\"Validation Accuracy: \", valid_score[1])\n",
    "print('-' * 20)\n",
    "print(\"Test Loss: \", test_score[0])\n",
    "print(\"Test Accuracy: \", test_score[1])"
   ]
  },
  {
   "cell_type": "code",
   "execution_count": 41,
   "id": "e013b58c",
   "metadata": {
    "papermill": {
     "duration": 3.955382,
     "end_time": "2024-01-20T13:08:25.495444",
     "exception": false,
     "start_time": "2024-01-20T13:08:21.540062",
     "status": "completed"
    },
    "tags": []
   },
   "outputs": [
    {
     "name": "stdout",
     "output_type": "stream",
     "text": [
      "\u001b[1m2/2\u001b[0m \u001b[32m━━━━━━━━━━━━━━━━━━━━\u001b[0m\u001b[37m\u001b[0m \u001b[1m37s\u001b[0m 18s/step\n",
      "[0 0 0 0 1 0 0 0 0 0 0 0 0 0 0 0 0 0 0 0 0 0 0 0 0 0 0 0 0 0 0 0 1 0 0 0 0\n",
      " 0 0 1 0 0 0 0 0 1 0 0 0 0 0 0 0 0 1 0 0 0 0 1 1 0 0 0 1 1 1 1 0 1 0 0 0 0\n",
      " 0 0 0 1 1 1 0 0 0 0 0 0 0 0 0 0 0 0 0 1 1 0 0]\n"
     ]
    }
   ],
   "source": [
    "model = load_model('best_model_resnet.keras')\n",
    "preds = model.predict(test_gen)\n",
    "y_pred = np.argmax(preds, axis=1)\n",
    "print(y_pred)"
   ]
  },
  {
   "cell_type": "code",
   "execution_count": 47,
   "id": "f43cade0",
   "metadata": {
    "papermill": {
     "duration": 0.49275,
     "end_time": "2024-01-20T13:08:26.025649",
     "exception": false,
     "start_time": "2024-01-20T13:08:25.532899",
     "status": "completed"
    },
    "tags": []
   },
   "outputs": [
    {
     "name": "stdout",
     "output_type": "stream",
     "text": [
      "Confusion Matrix, Without Normalization\n",
      "[[50  4]\n",
      " [30 13]]\n",
      "              precision    recall  f1-score   support\n",
      "\n",
      "      apples       0.62      0.93      0.75        54\n",
      "    tomatoes       0.76      0.30      0.43        43\n",
      "\n",
      "    accuracy                           0.65        97\n",
      "   macro avg       0.69      0.61      0.59        97\n",
      "weighted avg       0.69      0.65      0.61        97\n",
      "\n"
     ]
    },
    {
     "data": {
      "image/png": "[encoded data removed]",
      "text/plain": [
       "<Figure size 1000x1000 with 2 Axes>"
      ]
     },
     "metadata": {},
     "output_type": "display_data"
    }
   ],
   "source": [
    "from sklearn.metrics import confusion_matrix, classification_report\n",
    "import matplotlib.pyplot as plt\n",
    "\n",
    "# Confusion matrix\n",
    "cm = confusion_matrix(test_gen.classes, y_pred)\n",
    "plot_confusion_matrix(cm= cm, classes= target_names, title = 'Confusion Matrix')\n",
    "# Classification report\n",
    "print(classification_report(test_gen.classes, y_pred, target_names= target_names))"
   ]
  },
  {
   "cell_type": "code",
   "execution_count": 49,
   "id": "f80456e5",
   "metadata": {
    "_kg_hide-output": true,
    "papermill": {
     "duration": 108.120838,
     "end_time": "2024-01-20T13:10:14.181720",
     "exception": false,
     "start_time": "2024-01-20T13:08:26.060882",
     "status": "completed"
    },
    "scrolled": true,
    "tags": []
   },
   "outputs": [
    {
     "name": "stdout",
     "output_type": "stream",
     "text": [
      "Epoch 1/20\n",
      "\u001b[1m5/5\u001b[0m \u001b[32m━━━━━━━━━━━━━━━━━━━━\u001b[0m\u001b[37m\u001b[0m \u001b[1m0s\u001b[0m 29s/step - accuracy: 0.6079 - loss: 1.0404 \n",
      "Epoch 1: val_accuracy improved from -inf to 0.53448, saving model to best_model_vgg.keras\n",
      "\u001b[1m5/5\u001b[0m \u001b[32m━━━━━━━━━━━━━━━━━━━━\u001b[0m\u001b[37m\u001b[0m \u001b[1m204s\u001b[0m 39s/step - accuracy: 0.6132 - loss: 1.0245 - val_accuracy: 0.5345 - val_loss: 1.0635\n",
      "Epoch 2/20\n",
      "\u001b[1m5/5\u001b[0m \u001b[32m━━━━━━━━━━━━━━━━━━━━\u001b[0m\u001b[37m\u001b[0m \u001b[1m0s\u001b[0m 31s/step - accuracy: 0.8154 - loss: 0.5134 \n",
      "Epoch 2: val_accuracy improved from 0.53448 to 0.67241, saving model to best_model_vgg.keras\n",
      "\u001b[1m5/5\u001b[0m \u001b[32m━━━━━━━━━━━━━━━━━━━━\u001b[0m\u001b[37m\u001b[0m \u001b[1m186s\u001b[0m 41s/step - accuracy: 0.8201 - loss: 0.5057 - val_accuracy: 0.6724 - val_loss: 0.7121\n",
      "Epoch 3/20\n",
      "\u001b[1m5/5\u001b[0m \u001b[32m━━━━━━━━━━━━━━━━━━━━\u001b[0m\u001b[37m\u001b[0m \u001b[1m0s\u001b[0m 31s/step - accuracy: 0.8231 - loss: 0.3438 \n",
      "Epoch 3: val_accuracy improved from 0.67241 to 0.70690, saving model to best_model_vgg.keras\n",
      "\u001b[1m5/5\u001b[0m \u001b[32m━━━━━━━━━━━━━━━━━━━━\u001b[0m\u001b[37m\u001b[0m \u001b[1m185s\u001b[0m 40s/step - accuracy: 0.8251 - loss: 0.3428 - val_accuracy: 0.7069 - val_loss: 0.6022\n",
      "Epoch 4/20\n",
      "\u001b[1m5/5\u001b[0m \u001b[32m━━━━━━━━━━━━━━━━━━━━\u001b[0m\u001b[37m\u001b[0m \u001b[1m0s\u001b[0m 28s/step - accuracy: 0.7933 - loss: 0.4859 \n",
      "Epoch 4: val_accuracy improved from 0.70690 to 0.72414, saving model to best_model_vgg.keras\n",
      "\u001b[1m5/5\u001b[0m \u001b[32m━━━━━━━━━━━━━━━━━━━━\u001b[0m\u001b[37m\u001b[0m \u001b[1m183s\u001b[0m 38s/step - accuracy: 0.8002 - loss: 0.4717 - val_accuracy: 0.7241 - val_loss: 0.5676\n",
      "Epoch 5/20\n",
      "\u001b[1m5/5\u001b[0m \u001b[32m━━━━━━━━━━━━━━━━━━━━\u001b[0m\u001b[37m\u001b[0m \u001b[1m0s\u001b[0m 29s/step - accuracy: 0.9131 - loss: 0.2725 \n",
      "Epoch 5: val_accuracy did not improve from 0.72414\n",
      "\u001b[1m5/5\u001b[0m \u001b[32m━━━━━━━━━━━━━━━━━━━━\u001b[0m\u001b[37m\u001b[0m \u001b[1m187s\u001b[0m 38s/step - accuracy: 0.9149 - loss: 0.2704 - val_accuracy: 0.6724 - val_loss: 0.6227\n",
      "Epoch 6/20\n",
      "\u001b[1m5/5\u001b[0m \u001b[32m━━━━━━━━━━━━━━━━━━━━\u001b[0m\u001b[37m\u001b[0m \u001b[1m0s\u001b[0m 29s/step - accuracy: 0.8869 - loss: 0.2909 \n",
      "Epoch 6: val_accuracy did not improve from 0.72414\n",
      "\u001b[1m5/5\u001b[0m \u001b[32m━━━━━━━━━━━━━━━━━━━━\u001b[0m\u001b[37m\u001b[0m \u001b[1m188s\u001b[0m 38s/step - accuracy: 0.8895 - loss: 0.2854 - val_accuracy: 0.6897 - val_loss: 0.5469\n",
      "Epoch 7/20\n",
      "\u001b[1m5/5\u001b[0m \u001b[32m━━━━━━━━━━━━━━━━━━━━\u001b[0m\u001b[37m\u001b[0m \u001b[1m0s\u001b[0m 28s/step - accuracy: 0.8692 - loss: 0.2898 \n",
      "Epoch 7: val_accuracy did not improve from 0.72414\n",
      "\u001b[1m5/5\u001b[0m \u001b[32m━━━━━━━━━━━━━━━━━━━━\u001b[0m\u001b[37m\u001b[0m \u001b[1m180s\u001b[0m 37s/step - accuracy: 0.8705 - loss: 0.2869 - val_accuracy: 0.7241 - val_loss: 0.5086\n",
      "Epoch 8/20\n",
      "\u001b[1m5/5\u001b[0m \u001b[32m━━━━━━━━━━━━━━━━━━━━\u001b[0m\u001b[37m\u001b[0m \u001b[1m0s\u001b[0m 28s/step - accuracy: 0.9136 - loss: 0.2065 \n",
      "Epoch 8: val_accuracy improved from 0.72414 to 0.79310, saving model to best_model_vgg.keras\n",
      "\u001b[1m5/5\u001b[0m \u001b[32m━━━━━━━━━━━━━━━━━━━━\u001b[0m\u001b[37m\u001b[0m \u001b[1m184s\u001b[0m 38s/step - accuracy: 0.9146 - loss: 0.2069 - val_accuracy: 0.7931 - val_loss: 0.4859\n",
      "Epoch 9/20\n",
      "\u001b[1m5/5\u001b[0m \u001b[32m━━━━━━━━━━━━━━━━━━━━\u001b[0m\u001b[37m\u001b[0m \u001b[1m0s\u001b[0m 28s/step - accuracy: 0.9568 - loss: 0.1539 \n",
      "Epoch 9: val_accuracy improved from 0.79310 to 0.84483, saving model to best_model_vgg.keras\n",
      "\u001b[1m5/5\u001b[0m \u001b[32m━━━━━━━━━━━━━━━━━━━━\u001b[0m\u001b[37m\u001b[0m \u001b[1m184s\u001b[0m 38s/step - accuracy: 0.9556 - loss: 0.1573 - val_accuracy: 0.8448 - val_loss: 0.4474\n",
      "Epoch 10/20\n",
      "\u001b[1m5/5\u001b[0m \u001b[32m━━━━━━━━━━━━━━━━━━━━\u001b[0m\u001b[37m\u001b[0m \u001b[1m0s\u001b[0m 30s/step - accuracy: 0.9234 - loss: 0.1617 \n",
      "Epoch 10: val_accuracy did not improve from 0.84483\n",
      "\u001b[1m5/5\u001b[0m \u001b[32m━━━━━━━━━━━━━━━━━━━━\u001b[0m\u001b[37m\u001b[0m \u001b[1m188s\u001b[0m 39s/step - accuracy: 0.9241 - loss: 0.1651 - val_accuracy: 0.8103 - val_loss: 0.4440\n",
      "Epoch 11/20\n",
      "\u001b[1m5/5\u001b[0m \u001b[32m━━━━━━━━━━━━━━━━━━━━\u001b[0m\u001b[37m\u001b[0m \u001b[1m0s\u001b[0m 31s/step - accuracy: 0.9275 - loss: 0.1585 \n",
      "Epoch 11: val_accuracy did not improve from 0.84483\n",
      "\u001b[1m5/5\u001b[0m \u001b[32m━━━━━━━━━━━━━━━━━━━━\u001b[0m\u001b[37m\u001b[0m \u001b[1m196s\u001b[0m 41s/step - accuracy: 0.9269 - loss: 0.1588 - val_accuracy: 0.7931 - val_loss: 0.4391\n",
      "Epoch 12/20\n",
      "\u001b[1m5/5\u001b[0m \u001b[32m━━━━━━━━━━━━━━━━━━━━\u001b[0m\u001b[37m\u001b[0m \u001b[1m0s\u001b[0m 33s/step - accuracy: 0.9216 - loss: 0.1312 \n",
      "Epoch 12: val_accuracy did not improve from 0.84483\n",
      "\u001b[1m5/5\u001b[0m \u001b[32m━━━━━━━━━━━━━━━━━━━━\u001b[0m\u001b[37m\u001b[0m \u001b[1m182s\u001b[0m 39s/step - accuracy: 0.9241 - loss: 0.1333 - val_accuracy: 0.8276 - val_loss: 0.4405\n",
      "Epoch 13/20\n",
      "\u001b[1m5/5\u001b[0m \u001b[32m━━━━━━━━━━━━━━━━━━━━\u001b[0m\u001b[37m\u001b[0m \u001b[1m0s\u001b[0m 17s/step - accuracy: 0.9817 - loss: 0.1134 \n",
      "Epoch 13: val_accuracy did not improve from 0.84483\n",
      "\u001b[1m5/5\u001b[0m \u001b[32m━━━━━━━━━━━━━━━━━━━━\u001b[0m\u001b[37m\u001b[0m \u001b[1m108s\u001b[0m 22s/step - accuracy: 0.9770 - loss: 0.1218 - val_accuracy: 0.7586 - val_loss: 0.5560\n",
      "Epoch 14/20\n",
      "\u001b[1m5/5\u001b[0m \u001b[32m━━━━━━━━━━━━━━━━━━━━\u001b[0m\u001b[37m\u001b[0m \u001b[1m0s\u001b[0m 18s/step - accuracy: 0.9046 - loss: 0.2183 \n",
      "Epoch 14: val_accuracy did not improve from 0.84483\n",
      "\u001b[1m5/5\u001b[0m \u001b[32m━━━━━━━━━━━━━━━━━━━━\u001b[0m\u001b[37m\u001b[0m \u001b[1m139s\u001b[0m 23s/step - accuracy: 0.9078 - loss: 0.2112 - val_accuracy: 0.8103 - val_loss: 0.5238\n",
      "Epoch 15/20\n",
      "\u001b[1m5/5\u001b[0m \u001b[32m━━━━━━━━━━━━━━━━━━━━\u001b[0m\u001b[37m\u001b[0m \u001b[1m0s\u001b[0m 18s/step - accuracy: 0.9563 - loss: 0.1246 \n",
      "Epoch 15: val_accuracy did not improve from 0.84483\n",
      "\u001b[1m5/5\u001b[0m \u001b[32m━━━━━━━━━━━━━━━━━━━━\u001b[0m\u001b[37m\u001b[0m \u001b[1m115s\u001b[0m 24s/step - accuracy: 0.9586 - loss: 0.1221 - val_accuracy: 0.7931 - val_loss: 0.4975\n",
      "Epoch 16/20\n",
      "\u001b[1m5/5\u001b[0m \u001b[32m━━━━━━━━━━━━━━━━━━━━\u001b[0m\u001b[37m\u001b[0m \u001b[1m0s\u001b[0m 19s/step - accuracy: 0.9643 - loss: 0.1459 \n",
      "Epoch 16: val_accuracy did not improve from 0.84483\n",
      "\u001b[1m5/5\u001b[0m \u001b[32m━━━━━━━━━━━━━━━━━━━━\u001b[0m\u001b[37m\u001b[0m \u001b[1m124s\u001b[0m 26s/step - accuracy: 0.9611 - loss: 0.1485 - val_accuracy: 0.8103 - val_loss: 0.4986\n",
      "Epoch 17/20\n",
      "\u001b[1m5/5\u001b[0m \u001b[32m━━━━━━━━━━━━━━━━━━━━\u001b[0m\u001b[37m\u001b[0m \u001b[1m0s\u001b[0m 19s/step - accuracy: 0.9759 - loss: 0.0790 \n",
      "Epoch 17: val_accuracy improved from 0.84483 to 0.87931, saving model to best_model_vgg.keras\n",
      "\u001b[1m5/5\u001b[0m \u001b[32m━━━━━━━━━━━━━━━━━━━━\u001b[0m\u001b[37m\u001b[0m \u001b[1m126s\u001b[0m 26s/step - accuracy: 0.9750 - loss: 0.0798 - val_accuracy: 0.8793 - val_loss: 0.4052\n",
      "Epoch 18/20\n",
      "\u001b[1m5/5\u001b[0m \u001b[32m━━━━━━━━━━━━━━━━━━━━\u001b[0m\u001b[37m\u001b[0m \u001b[1m0s\u001b[0m 17s/step - accuracy: 0.9654 - loss: 0.0812 \n",
      "Epoch 18: val_accuracy did not improve from 0.87931\n",
      "\u001b[1m5/5\u001b[0m \u001b[32m━━━━━━━━━━━━━━━━━━━━\u001b[0m\u001b[37m\u001b[0m \u001b[1m115s\u001b[0m 24s/step - accuracy: 0.9648 - loss: 0.0814 - val_accuracy: 0.8276 - val_loss: 0.4627\n",
      "Epoch 19/20\n",
      "\u001b[1m5/5\u001b[0m \u001b[32m━━━━━━━━━━━━━━━━━━━━\u001b[0m\u001b[37m\u001b[0m \u001b[1m0s\u001b[0m 16s/step - accuracy: 0.9442 - loss: 0.1417 \n",
      "Epoch 19: val_accuracy improved from 0.87931 to 0.91379, saving model to best_model_vgg.keras\n",
      "\u001b[1m5/5\u001b[0m \u001b[32m━━━━━━━━━━━━━━━━━━━━\u001b[0m\u001b[37m\u001b[0m \u001b[1m108s\u001b[0m 22s/step - accuracy: 0.9486 - loss: 0.1353 - val_accuracy: 0.9138 - val_loss: 0.3136\n",
      "Epoch 20/20\n",
      "\u001b[1m5/5\u001b[0m \u001b[32m━━━━━━━━━━━━━━━━━━━━\u001b[0m\u001b[37m\u001b[0m \u001b[1m0s\u001b[0m 19s/step - accuracy: 0.9826 - loss: 0.0792 \n",
      "Epoch 20: val_accuracy did not improve from 0.91379\n",
      "\u001b[1m5/5\u001b[0m \u001b[32m━━━━━━━━━━━━━━━━━━━━\u001b[0m\u001b[37m\u001b[0m \u001b[1m116s\u001b[0m 25s/step - accuracy: 0.9798 - loss: 0.0863 - val_accuracy: 0.8966 - val_loss: 0.3699\n"
     ]
    }
   ],
   "source": [
    "import tensorflow as tf\n",
    "from tensorflow.keras.models import Sequential\n",
    "from tensorflow.keras.layers import Dense, Dropout, BatchNormalization\n",
    "from tensorflow.keras.callbacks import ModelCheckpoint\n",
    "\n",
    "# Assuming train_gen and valid_gen are your image data generators\n",
    "\n",
    "img_size = (224, 224)\n",
    "channels = 3\n",
    "img_shape = (img_size[0], img_size[1], channels)\n",
    "class_count = len(list(train_gen.class_indices.keys()))\n",
    "\n",
    "# Create pre-trained model\n",
    "base_model = tf.keras.applications.VGG16(include_top=False, weights=\"imagenet\", input_shape=img_shape, pooling='max')\n",
    "for layer in base_model.layers:\n",
    "    layer.trainable = False\n",
    "model = Sequential([\n",
    "    base_model,\n",
    "    BatchNormalization(),\n",
    "    Dense(256, activation='relu'),\n",
    "    Dropout(0.3),\n",
    "     Dense(64, activation='relu'),\n",
    "    Dropout(0.3),\n",
    "    Dense(class_count, activation='softmax')\n",
    "])\n",
    "\n",
    "optimizer = tf.keras.optimizers.Adam()\n",
    "model.compile(optimizer=optimizer, loss='categorical_crossentropy', metrics=['accuracy'])\n",
    "\n",
    "# Define filepath to save the best model\n",
    "filepath = 'best_model_vgg.keras'\n",
    "\n",
    "# Create ModelCheckpoint callback to save the best model based on validation accuracy\n",
    "checkpoint = ModelCheckpoint(filepath, monitor='val_accuracy', verbose=1, save_best_only=True, mode='max')\n",
    "# Train the model with the added callback\n",
    "history = model.fit(\n",
    "    x=train_gen,\n",
    "    epochs=20,\n",
    "    verbose=1,\n",
    "    validation_data=valid_gen,\n",
    "    callbacks=[checkpoint]\n",
    ")"
   ]
  },
  {
   "cell_type": "code",
   "execution_count": 53,
   "id": "2fe7f9af",
   "metadata": {
    "papermill": {
     "duration": 13.314013,
     "end_time": "2024-01-20T13:10:27.545650",
     "exception": false,
     "start_time": "2024-01-20T13:10:14.231637",
     "status": "completed"
    },
    "tags": []
   },
   "outputs": [
    {
     "name": "stdout",
     "output_type": "stream",
     "text": [
      "\u001b[1m5/5\u001b[0m \u001b[32m━━━━━━━━━━━━━━━━━━━━\u001b[0m\u001b[37m\u001b[0m \u001b[1m85s\u001b[0m 16s/step - accuracy: 0.9732 - loss: 0.1018\n",
      "\u001b[1m2/2\u001b[0m \u001b[32m━━━━━━━━━━━━━━━━━━━━\u001b[0m\u001b[37m\u001b[0m \u001b[1m23s\u001b[0m 3s/step - accuracy: 0.8614 - loss: 0.4143\n",
      "\u001b[1m2/2\u001b[0m \u001b[32m━━━━━━━━━━━━━━━━━━━━\u001b[0m\u001b[37m\u001b[0m \u001b[1m35s\u001b[0m 17s/step - accuracy: 0.8438 - loss: 0.3855\n",
      "Train Loss:  0.10201248526573181\n",
      "Train Accuracy:  0.9703390002250671\n",
      "--------------------\n",
      "Validation Loss:  0.4102042317390442\n",
      "Validation Accuracy:  0.8620689511299133\n",
      "--------------------\n",
      "Test Loss:  0.3749975562095642\n",
      "Test Accuracy:  0.8556700944900513\n"
     ]
    }
   ],
   "source": [
    "import tensorflow as tf\n",
    "from tensorflow.keras.models import load_model, Model\n",
    "from tensorflow.keras.layers import Input, Average\n",
    "\n",
    "\n",
    "\n",
    "model= load_model('best_model_vgg.keras')\n",
    "\n",
    "\n",
    "train_score = model.evaluate(train_gen, steps= len(train_gen), verbose= 1)\n",
    "valid_score = model.evaluate(valid_gen, steps= len(valid_gen), verbose= 1)\n",
    "test_score = model.evaluate(test_gen, steps= len(test_gen), verbose= 1)\n",
    "\n",
    "print(\"Train Loss: \", train_score[0])\n",
    "print(\"Train Accuracy: \", train_score[1])\n",
    "print('-' * 20)\n",
    "print(\"Validation Loss: \", valid_score[0])\n",
    "print(\"Validation Accuracy: \", valid_score[1])\n",
    "print('-' * 20)\n",
    "print(\"Test Loss: \", test_score[0])\n",
    "print(\"Test Accuracy: \", test_score[1])"
   ]
  },
  {
   "cell_type": "code",
   "execution_count": 55,
   "id": "96f0e880",
   "metadata": {
    "papermill": {
     "duration": 1.269306,
     "end_time": "2024-01-20T13:10:28.866379",
     "exception": false,
     "start_time": "2024-01-20T13:10:27.597073",
     "status": "completed"
    },
    "tags": []
   },
   "outputs": [
    {
     "name": "stdout",
     "output_type": "stream",
     "text": [
      "WARNING:tensorflow:5 out of the last 5 calls to <function TensorFlowTrainer.make_predict_function.<locals>.one_step_on_data_distributed at 0x0000018A2464DA80> triggered tf.function retracing. Tracing is expensive and the excessive number of tracings could be due to (1) creating @tf.function repeatedly in a loop, (2) passing tensors with different shapes, (3) passing Python objects instead of tensors. For (1), please define your @tf.function outside of the loop. For (2), @tf.function has reduce_retracing=True option that can avoid unnecessary retracing. For (3), please refer to https://www.tensorflow.org/guide/function#controlling_retracing and https://www.tensorflow.org/api_docs/python/tf/function for  more details.\n",
      "\u001b[1m1/2\u001b[0m \u001b[32m━━━━━━━━━━\u001b[0m\u001b[37m━━━━━━━━━━\u001b[0m \u001b[1m18s\u001b[0m 18s/stepWARNING:tensorflow:6 out of the last 6 calls to <function TensorFlowTrainer.make_predict_function.<locals>.one_step_on_data_distributed at 0x0000018A2464DA80> triggered tf.function retracing. Tracing is expensive and the excessive number of tracings could be due to (1) creating @tf.function repeatedly in a loop, (2) passing tensors with different shapes, (3) passing Python objects instead of tensors. For (1), please define your @tf.function outside of the loop. For (2), @tf.function has reduce_retracing=True option that can avoid unnecessary retracing. For (3), please refer to https://www.tensorflow.org/guide/function#controlling_retracing and https://www.tensorflow.org/api_docs/python/tf/function for  more details.\n",
      "\u001b[1m2/2\u001b[0m \u001b[32m━━━━━━━━━━━━━━━━━━━━\u001b[0m\u001b[37m\u001b[0m \u001b[1m35s\u001b[0m 17s/step\n",
      "[1 0 0 0 0 0 0 0 0 0 1 0 0 0 0 0 0 0 1 0 0 0 0 0 0 0 1 1 0 0 0 0 1 0 0 0 0\n",
      " 1 0 1 0 0 0 0 0 0 0 1 0 0 0 0 0 0 1 1 1 1 1 1 1 1 1 1 1 1 1 1 1 1 1 1 1 1\n",
      " 1 1 0 1 0 1 1 1 1 1 0 0 1 1 1 0 1 1 1 1 1 1 1]\n"
     ]
    }
   ],
   "source": [
    "model = load_model('best_model_vgg.keras')\n",
    "preds = model.predict(test_gen)\n",
    "y_pred = np.argmax(preds, axis=1)\n",
    "print(y_pred)"
   ]
  },
  {
   "cell_type": "code",
   "execution_count": 57,
   "id": "50034a4c",
   "metadata": {
    "papermill": {
     "duration": 0.522053,
     "end_time": "2024-01-20T13:10:29.443912",
     "exception": false,
     "start_time": "2024-01-20T13:10:28.921859",
     "status": "completed"
    },
    "tags": []
   },
   "outputs": [
    {
     "name": "stdout",
     "output_type": "stream",
     "text": [
      "Confusion Matrix, Without Normalization\n",
      "[[45  9]\n",
      " [ 5 38]]\n",
      "              precision    recall  f1-score   support\n",
      "\n",
      "      apples       0.90      0.83      0.87        54\n",
      "    tomatoes       0.81      0.88      0.84        43\n",
      "\n",
      "    accuracy                           0.86        97\n",
      "   macro avg       0.85      0.86      0.85        97\n",
      "weighted avg       0.86      0.86      0.86        97\n",
      "\n"
     ]
    },
    {
     "data": {
      "image/png": "[encoded data removed]",
      "text/plain": [
       "<Figure size 1000x1000 with 2 Axes>"
      ]
     },
     "metadata": {},
     "output_type": "display_data"
    }
   ],
   "source": [
    "from sklearn.metrics import confusion_matrix, classification_report\n",
    "import matplotlib.pyplot as plt\n",
    "\n",
    "# Confusion matrix\n",
    "cm = confusion_matrix(test_gen.classes, y_pred)\n",
    "plot_confusion_matrix(cm= cm, classes= target_names, title = 'Confusion Matrix')\n",
    "# Classification report\n",
    "print(classification_report(test_gen.classes, y_pred, target_names= target_names))"
   ]
  },
  {
   "cell_type": "code",
   "execution_count": null,
   "id": "09b4d175-9bff-4d4b-a31b-36fdd6a11454",
   "metadata": {},
   "outputs": [],
   "source": []
  }
 ],
 "metadata": {
  "kaggle": {
   "accelerator": "nvidiaTeslaT4",
   "dataSources": [
    {
     "datasetId": 2702329,
     "sourceId": 4651548,
     "sourceType": "datasetVersion"
    }
   ],
   "dockerImageVersionId": 30636,
   "isGpuEnabled": true,
   "isInternetEnabled": true,
   "language": "python",
   "sourceType": "notebook"
  },
  "kernelspec": {
   "display_name": "Python 3 (ipykernel)",
   "language": "python",
   "name": "python3"
  },
  "language_info": {
   "codemirror_mode": {
    "name": "ipython",
    "version": 3
   },
   "file_extension": ".py",
   "mimetype": "text/x-python",
   "name": "python",
   "nbconvert_exporter": "python",
   "pygments_lexer": "ipython3",
   "version": "3.12.4"
  },
  "papermill": {
   "default_parameters": {},
   "duration": 405.859329,
   "end_time": "2024-01-20T13:10:33.145069",
   "environment_variables": {},
   "exception": null,
   "input_path": "__notebook__.ipynb",
   "output_path": "__notebook__.ipynb",
   "parameters": {},
   "start_time": "2024-01-20T13:03:47.285740",
   "version": "2.4.0"
  }
 },
 "nbformat": 4,
 "nbformat_minor": 5
}
